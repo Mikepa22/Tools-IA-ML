{
  "nbformat": 4,
  "nbformat_minor": 0,
  "metadata": {
    "colab": {
      "provenance": [],
      "authorship_tag": "ABX9TyNnmV7VPZzMIbOodjneuwCd",
      "include_colab_link": true
    },
    "kernelspec": {
      "name": "python3",
      "display_name": "Python 3"
    },
    "language_info": {
      "name": "python"
    }
  },
  "cells": [
    {
      "cell_type": "markdown",
      "metadata": {
        "id": "view-in-github",
        "colab_type": "text"
      },
      "source": [
        "<a href=\"https://colab.research.google.com/github/Mikepa22/Tools-IA-ML/blob/main/Python_basics.ipynb\" target=\"_parent\"><img src=\"https://colab.research.google.com/assets/colab-badge.svg\" alt=\"Open In Colab\"/></a>"
      ]
    },
    {
      "cell_type": "markdown",
      "source": [
        "Miguel Ángel Palomino Campo\n",
        "Cod: 2235327"
      ],
      "metadata": {
        "id": "fx8pN2cGaNF9"
      }
    },
    {
      "cell_type": "markdown",
      "source": [
        "Calcular ahorro al final de 3 años (o los que desee) con interes anual de 6.2%:      \n",
        "Se crea una función que capture los datos del usuario y calcule el interes compuesto al final de determinado tiempo. Se usa la estructura try-except para manejar datos erroneos. Uso del ciclo for para imprimir la cantidad de dinero al final de cada año"
      ],
      "metadata": {
        "id": "LpjEJuQAYHfA"
      }
    },
    {
      "cell_type": "code",
      "execution_count": null,
      "metadata": {
        "id": "TwJZUbWdNz44"
      },
      "outputs": [],
      "source": [
        "#import math\n",
        "\n",
        "def calcular_ahorro():\n",
        "  #Capturar datos con formato erróneo\n",
        "  try:\n",
        "    v_inicial= int(input(\"Ingrese el valor ingresado a la cuenta\")) #solicitar al usuario valor inicial\n",
        "    años=int(input(\"Ingrese el numero de años de su inversión\")) #solicitar al usuario años de la inversion\n",
        "    for i in range(1,años+1):                                  #ciclo para imprimir el ahorro al final de cada año\n",
        "      ahorro= v_inicial*(1+0.062)**i\n",
        "      v_inicial=ahorro\n",
        "      print(f'Ahorro Año {i} --> {ahorro:.2f}')\n",
        "\n",
        "  except:\n",
        "    print(\"*Error* Intente de nuevo. Ingrese solo valores numéricos\")\n",
        "\n",
        "if __name__==\"__main__\": #funcion principal\n",
        "    calcular_ahorro()\n"
      ]
    },
    {
      "cell_type": "markdown",
      "source": [
        "Sumar los números del 0 al n(ingresado por usuario)\n",
        "\n",
        "Función que calcula la suma de los numeros del 1 al n ingresado por el usuario. Uso de try-except y la función principal para controlar el proceso\n"
      ],
      "metadata": {
        "id": "UtlPVo8-4ebC"
      }
    },
    {
      "cell_type": "code",
      "source": [
        "def calcular_suma():\n",
        "  try:\n",
        "    num=int(input(\"Ingrese el numero (n) para la suma de 1 a n\"))\n",
        "    suma=(num*(num+1))/2\n",
        "    print(f'La suma de los numeros desde 1 hasta {num} es {suma}')\n",
        "\n",
        "  except:\n",
        "    print(\"*Error* Intente de nuevo. Ingrese solo valores numéricos\")\n",
        "\n",
        "if __name__==\"__main__\":#función principal\n",
        "    calcular_suma()"
      ],
      "metadata": {
        "id": "sqFIpTxMTG8R"
      },
      "execution_count": null,
      "outputs": []
    },
    {
      "cell_type": "markdown",
      "source": [
        "Determinación de la hipotenusa a partir de los catetos"
      ],
      "metadata": {
        "id": "Pf-tAFnF5VjG"
      }
    },
    {
      "cell_type": "code",
      "source": [
        "from math import sqrt #importar operación sqrt\n",
        "def calcular_hipotenusa():\n",
        "  try:\n",
        "    cat1=int(input(\"Ingrese la longitud del primer cateto\"))\n",
        "    cat2=int(input(\"Ingrese la longitud del segundo cateto\"))\n",
        "    hipo=sqrt(cat1**2+cat2**2) #cálcula principal\n",
        "    print(f'La longitud de la hipotenusa es {hipo:.2f} unidades') #string interpolator\n",
        "\n",
        "  except:\n",
        "    print(\"*Error* Intente de nuevo. Ingrese solo valores numéricos\")\n",
        "\n",
        "if __name__==\"__main__\": #funcion principal\n",
        "    calcular_hipotenusa()\n"
      ],
      "metadata": {
        "id": "nJYlGRNeYBu3"
      },
      "execution_count": null,
      "outputs": []
    },
    {
      "cell_type": "markdown",
      "source": [
        "Velocidad final de un objeto en caida libre (Vi=0)"
      ],
      "metadata": {
        "id": "dkIYP5Ls5gj8"
      }
    },
    {
      "cell_type": "code",
      "source": [
        "def calcular_vf():\n",
        "  a=9.8\n",
        "  try:\n",
        "    d=int(input(\"Ingrese la distancia en metros desde donde cae el objeto\"))\n",
        "    vf=sqrt(2*9.8*d)\n",
        "    print(f'La velocidad final es {vf:.2f} m/s')\n",
        "\n",
        "  except:\n",
        "    print(\"*Error* Intente de nuevo. Ingrese solo valores numéricos\")\n",
        "\n",
        "if __name__==\"__main__\":\n",
        "    calcular_vf()\n",
        "\n",
        "\n"
      ],
      "metadata": {
        "id": "fw4auY0gaa-G"
      },
      "execution_count": null,
      "outputs": []
    },
    {
      "cell_type": "markdown",
      "source": [
        "Determinar la estación en la que se encuentra una cierta fecha:\n",
        "\n",
        "\n",
        " Se crean dos diccionarios para no utilizar datos tipo string en el código y reemplazarlos por datos numericos. Cuando el usuario ingresa un mes, este se convierte en un valor numerico asociado. Luego se evaluan las condiciones para determinar la estación y se imprime."
      ],
      "metadata": {
        "id": "1c9w-MZG5rgl"
      }
    },
    {
      "cell_type": "code",
      "source": [
        "def determinar_estacion(): #función\n",
        "  #dos diccionarios,uno con los meses y otro con estaciones para poder trabajar solo con numeros\n",
        "  meses={1:\"enero\",2:\"febrero\",3:\"marzo\",4:\"abril\",5:\"mayo\",6:\"junio\",7:\"julio\",8:\"agosto\",9:\"septiembre\",10:\"octubre\",11:\"noviembre\",12:\"diciembre\"}\n",
        "  estaciones={11:\"Primavera\",12:\"Verano\",13:\"Otoño\",14:\"Invierno\"}\n",
        "  mes=input(\"ingrese el mes que quiere consultar  >\").lower() #convertir string a minusculas\n",
        "  dia=int(input(\"Ingrese el dia que desea consultar  >\"))\n",
        "  cod_mes=(list(meses.keys()) [list(meses.values()).index(mes)]) # lista keys y lista values, se vale de la posicion y del mes ingresado para extraer la key\n",
        "  #estructura lógica\n",
        "  if cod_mes in (1 , 2) or (cod_mes==3 and dia<20) or (cod_mes== 12 and dia>=21):\n",
        "    season=14\n",
        "  elif cod_mes in( 4 , 5) or (cod_mes==3 and dia>=20) or (cod_mes==6 and dia<21):\n",
        "    season=11\n",
        "  elif cod_mes in(7 , 8 ) or (cod_mes==6 and dia>=21) or (cod_mes==9 and dia <22):\n",
        "    season=12\n",
        "  elif cod_mes in (10 , 11) or (cod_mes==9 and dia>=22) or (cod_mes==12 and dia<=21):\n",
        "    season=13\n",
        "\n",
        "  print(f'La fecha ingresada se encuentra en ___> {estaciones[season]}') #mostrar estación\n",
        "\n",
        "if __name__==\"__main__\": #función principal\n",
        "  determinar_estacion()\n",
        "\n"
      ],
      "metadata": {
        "id": "vtZyERvAa39N"
      },
      "execution_count": null,
      "outputs": []
    },
    {
      "cell_type": "markdown",
      "source": [
        "Calculadora sencilla\n",
        "\n",
        "Se establece una función que evalua el operador ingresado y devuelve la operación correspondiente. En la función principal se solicitan los numeros y el operador. Luego se imprime lo que retorna la función de calculo"
      ],
      "metadata": {
        "id": "o7MWTqKM7OtJ"
      }
    },
    {
      "cell_type": "code",
      "source": [
        "print(\"Bienvenido a su calculadora\")\n",
        "def operaciones(a,b,o): #funcion que captura la operación a realizar y devuelve el resultado\n",
        "  if o==\"+\":\n",
        "    return a+b\n",
        "  elif o==\"-\":\n",
        "    return a-b\n",
        "  elif o==\"*\":\n",
        "    return a*b\n",
        "  elif o==\"/\":\n",
        "    return a/b\n",
        "\n",
        "\n",
        "if __name__==\"__main__\":\n",
        "  try:\n",
        "    #solicitar al usuario dos números y la operación que desea\n",
        "    n1=float(input(\"Ingrese el primer numero que desea operar  >\"))\n",
        "    n2=float(input(\"Ingrese el segundo numero que desea operar  >\"))\n",
        "    operar=input(\"Ingrese el operador que desea utilizar así suma: + ,resta: -, multiplicaación: *,division: /\")\n",
        "    print(\"RESULTADO:  >\", (operaciones(n1,n2,operar)))\n",
        "\n",
        "  except:\n",
        "    print(\"Ingrese datos con formatos válidos\")\n"
      ],
      "metadata": {
        "id": "9oVbt12Y3WJu"
      },
      "execution_count": null,
      "outputs": []
    },
    {
      "cell_type": "markdown",
      "source": [
        "Reconocedor de palíndromos\n",
        "\n",
        "Solicito la palabra y se crea una lista donde se almacenan las letras de la palabra, se reorganiza al reves y se compara con la palabra inicial."
      ],
      "metadata": {
        "id": "9gN58qSH77gx"
      }
    },
    {
      "cell_type": "code",
      "source": [
        "print(\"Bienvenido a su reconocedor de palíndromos\")\n",
        "palabra=input(\"Ingrese la palabra que quiere analizar  >\").lower()\n",
        "l=[] #lista vacia\n",
        "for letra in palabra: #recorro la palabra ingresada\n",
        "  l.append(letra)   #adiciono cada letra al final de la lista\n",
        "x=list(reversed(l)) #nueva lista con la palabra al reves\n",
        "if l==x:            #comparo la lista al derecho y al reves\n",
        "  print(f'La palara {palabra} ES un palíndromo')\n",
        "else:\n",
        "  print(f'La palara {palabra} NO es palíndromo')\n",
        "\n",
        "\n"
      ],
      "metadata": {
        "colab": {
          "base_uri": "https://localhost:8080/"
        },
        "id": "XFnaV2qwhlbl",
        "outputId": "5906ce4d-785e-4746-e6a8-1520b4b00f08"
      },
      "execution_count": null,
      "outputs": [
        {
          "output_type": "stream",
          "name": "stdout",
          "text": [
            "Bienvenido a su reconocedor de palíndromos\n",
            "Ingrese la palabra que quiere analizarcivic\n",
            "La palara civic ES un palíndromo\n"
          ]
        }
      ]
    },
    {
      "cell_type": "markdown",
      "source": [
        "Generador Fibonacci\n",
        "\n",
        "Partiendo de los dos primeros terminos en una lista, se establece el ciclo de tal manera que se sumen los dos ultimos valores y el resultado se agregue al final de la lista. Condicionales en caso de que se piden solo uno o dos valores."
      ],
      "metadata": {
        "id": "MyH9Uxiu8Zti"
      }
    },
    {
      "cell_type": "code",
      "source": [
        "cantidad=int(input(\"Ingrese la cantidad de numeros de la serie fibonacci que quiere ver: \"))\n",
        "ser=[0,1]\n",
        "def cal_fibo():\n",
        "  num=0\n",
        "  if  cantidad==1:# cuando se piden hasta 2 teminos se usa la lista ser para mostrarlos\n",
        "    print(ser[0])\n",
        "  elif cantidad==2:\n",
        "    print(ser)\n",
        "  else:\n",
        "    while (num<cantidad-2): #ciclo suma\n",
        "      ser.append(ser[-1]+ser[-2]) # se suman los ultimos dos numero de la lista para obtener sig termino\n",
        "      num+=1 #contador\n",
        "    return ser\n",
        "\n",
        "if __name__==\"__main__\":\n",
        "  print(cal_fibo())\n",
        "\n",
        "\n",
        "\n",
        "\n"
      ],
      "metadata": {
        "colab": {
          "base_uri": "https://localhost:8080/"
        },
        "id": "ZT6c5epuqTXW",
        "outputId": "050c2a3d-2a3d-484e-de15-8b33b5ce22dd"
      },
      "execution_count": null,
      "outputs": [
        {
          "output_type": "stream",
          "name": "stdout",
          "text": [
            "Ingrese la cantidad de numeros de la serie fibonacci que quiere ver: 10\n",
            "[0, 1, 1, 2, 3, 5, 8, 13, 21, 34]\n"
          ]
        }
      ]
    },
    {
      "cell_type": "markdown",
      "source": [
        "Ordenar los numero positivos de una lista\n",
        "\n",
        "Dos listas, una para almacenar los numeros positivos que se encuentren y otra para almacenar su posición en la estructura original. La lista de positivos se ordena de forma ascendente y se reemplazan los valores en la estructura original"
      ],
      "metadata": {
        "id": "feVRTwfq-Pi3"
      }
    },
    {
      "cell_type": "code",
      "source": [
        "posicion=[]\n",
        "positivos=[]\n",
        "def ordenaPositivos(listo): #una variable de entrada\n",
        "  if listo !=[]: #Si la lista dada no es vacia\n",
        "\n",
        "    for i in listo: #recorro la lista para capturar positivos y su posicion\n",
        "      if i>0:\n",
        "        positivos.append(i)\n",
        "        posicion.append(listo.index(i))\n",
        "      else:\n",
        "        pass\n",
        "\n",
        "    ordenada=sorted(positivos,reverse=False) #ordenar de forma ascendente\n",
        "    #print(ordenada, posicion)\n",
        "    for item,key in zip(ordenada, posicion): #recorro lista ordenada y posicion a la vez\n",
        "      listo[key]=item  #asigno el item ordena a la posición correspondiente\n",
        "    return listo\n",
        "  else: #si es vacia devuelve la lista vacia\n",
        "    return listo\n",
        "\n",
        "if __name__==\"__main__\":\n",
        "  a=[45,-5,3,-5,0,7,-5,1]\n",
        "  print(ordenaPositivos(a))"
      ],
      "metadata": {
        "colab": {
          "base_uri": "https://localhost:8080/"
        },
        "id": "u_dEyX4gqIY_",
        "outputId": "34220a34-abca-4b50-fe4a-1007a81bd222"
      },
      "execution_count": null,
      "outputs": [
        {
          "output_type": "stream",
          "name": "stdout",
          "text": [
            "[1, -5, 3, -5, 0, 7, -5, 45]\n"
          ]
        }
      ]
    },
    {
      "cell_type": "markdown",
      "source": [
        "\n",
        "Determinar si un año es bisiesto\n",
        "\n",
        "Se establecen todas las condiciones en la misma linea, el año es bisiesto solo si es divisible por cuatro y no divisible por cien. O es divisible por cuatro y divisible por 400"
      ],
      "metadata": {
        "id": "LJmfm3uY-_vr"
      }
    },
    {
      "cell_type": "code",
      "source": [
        "anio=int(input(\"Ingrese el año que desea consultar\"))\n",
        "def esBisiesto(): #función\n",
        "  if anio%4==0 and(anio%100!=0 or anio%400==0): #lógica, modulo 4 igual a 0 y(no divisible por 100 o divisible por 400)\n",
        "    print(f'El año {anio} es bisiesto')\n",
        "  else:\n",
        "    print(f'El año {anio} NO es bisiesto')\n",
        "\n",
        "if __name__==\"__main__\":\n",
        "  esBisiesto()\n",
        "\n",
        "\n"
      ],
      "metadata": {
        "colab": {
          "base_uri": "https://localhost:8080/"
        },
        "id": "kjhWqvOvdhSA",
        "outputId": "703d7d0d-86bd-4d8a-b1ef-bbbcb11bea17"
      },
      "execution_count": null,
      "outputs": [
        {
          "output_type": "stream",
          "name": "stdout",
          "text": [
            "Ingrese el año que desea consultar2100\n",
            "El año 2100 NO es bisiesto\n"
          ]
        }
      ]
    }
  ]
}